{
 "cells": [
  {
   "cell_type": "code",
   "execution_count": 5575,
   "metadata": {},
   "outputs": [
    {
     "data": {
      "text/html": [
       "<div>\n",
       "<style scoped>\n",
       "    .dataframe tbody tr th:only-of-type {\n",
       "        vertical-align: middle;\n",
       "    }\n",
       "\n",
       "    .dataframe tbody tr th {\n",
       "        vertical-align: top;\n",
       "    }\n",
       "\n",
       "    .dataframe thead th {\n",
       "        text-align: right;\n",
       "    }\n",
       "</style>\n",
       "<table border=\"1\" class=\"dataframe\">\n",
       "  <thead>\n",
       "    <tr style=\"text-align: right;\">\n",
       "      <th></th>\n",
       "      <th>ID</th>\n",
       "      <th>Name</th>\n",
       "      <th>Location</th>\n",
       "      <th>Grade</th>\n",
       "      <th>Title</th>\n",
       "      <th>Join\\nDate</th>\n",
       "      <th>LWD</th>\n",
       "      <th>Type</th>\n",
       "      <th>Divison</th>\n",
       "      <th>Reports To</th>\n",
       "      <th>Highest\\nQualification\\nLevel</th>\n",
       "      <th>Highest Qualification</th>\n",
       "      <th>Major</th>\n",
       "      <th>University</th>\n",
       "      <th>All Qualifications from Profile</th>\n",
       "      <th>Courses Taught- Term 201510</th>\n",
       "      <th>MAJOR TEACHING FIELD</th>\n",
       "      <th>DOCUMENT OTHER PROFESSIONAL CERTIFICATION CRITIERA Five Years Work Experience Teaching Excellence Professional Certifications</th>\n",
       "      <th>Criteria</th>\n",
       "    </tr>\n",
       "  </thead>\n",
       "  <tbody>\n",
       "    <tr>\n",
       "      <th>0</th>\n",
       "      <td>LT9210743</td>\n",
       "      <td>Jim Hunter</td>\n",
       "      <td>London</td>\n",
       "      <td>FA</td>\n",
       "      <td>Faculty - Business</td>\n",
       "      <td>29-Aug-10</td>\n",
       "      <td>NaN</td>\n",
       "      <td>Full Time</td>\n",
       "      <td>Business</td>\n",
       "      <td>Abbas Houda</td>\n",
       "      <td>Masters</td>\n",
       "      <td>Master of Arts</td>\n",
       "      <td>International Affairs</td>\n",
       "      <td>American University of Beirut</td>\n",
       "      <td>Bachelor of Science (Communications), Master o...</td>\n",
       "      <td>BUS2403 - Innovation &amp; Entrepreneurship\\nBUS20...</td>\n",
       "      <td>Business Administration</td>\n",
       "      <td>10+ Years Small Business Ownership, 10+ Years ...</td>\n",
       "      <td>Industry &amp; Teaching experience</td>\n",
       "    </tr>\n",
       "    <tr>\n",
       "      <th>1</th>\n",
       "      <td>LT9001784</td>\n",
       "      <td>Jose Nadal</td>\n",
       "      <td>London</td>\n",
       "      <td>FA</td>\n",
       "      <td>Faculty - Business</td>\n",
       "      <td>19-Aug-99</td>\n",
       "      <td>NaN</td>\n",
       "      <td>Full Time</td>\n",
       "      <td>Business</td>\n",
       "      <td>Abbas Houda</td>\n",
       "      <td>Masters</td>\n",
       "      <td>Master of Science</td>\n",
       "      <td>Business Info. Technology</td>\n",
       "      <td>University of Northumbria</td>\n",
       "      <td>Bachelor of Arts (Finance), Certificate (Manag...</td>\n",
       "      <td>BUS4173 - Managerial Accounting II\\nBUS4916 - ...</td>\n",
       "      <td>Business</td>\n",
       "      <td>years of teaching experience: 17              ...</td>\n",
       "      <td>Certification</td>\n",
       "    </tr>\n",
       "    <tr>\n",
       "      <th>2</th>\n",
       "      <td>LT9062955</td>\n",
       "      <td>Pierre Cornet</td>\n",
       "      <td>London</td>\n",
       "      <td>FA</td>\n",
       "      <td>Faculty - Business</td>\n",
       "      <td>08-Apr-07</td>\n",
       "      <td>NaN</td>\n",
       "      <td>Full Time</td>\n",
       "      <td>Business</td>\n",
       "      <td>Abbas Houda</td>\n",
       "      <td>Masters</td>\n",
       "      <td>Master of Business Administrat</td>\n",
       "      <td>Marketing</td>\n",
       "      <td>Griffith University</td>\n",
       "      <td>Certificate (Educating/Teaching Adult), Associ...</td>\n",
       "      <td>BUS3903 - Contemporary Business\\nBUS1303 - Mar...</td>\n",
       "      <td>Marketing and Strategic Management</td>\n",
       "      <td>Years of teaching experience: 15\\nYears of pro...</td>\n",
       "      <td>Industry &amp; Teaching experience</td>\n",
       "    </tr>\n",
       "    <tr>\n",
       "      <th>3</th>\n",
       "      <td>0</td>\n",
       "      <td>Sally Smith</td>\n",
       "      <td>London</td>\n",
       "      <td>FA</td>\n",
       "      <td>Faculty - Business</td>\n",
       "      <td>14-Aug-16</td>\n",
       "      <td>NaN</td>\n",
       "      <td>Full Time</td>\n",
       "      <td>Business</td>\n",
       "      <td>Abbas Houda</td>\n",
       "      <td>Ph.D</td>\n",
       "      <td>Ph.D in HRM/ Organizational pyschology</td>\n",
       "      <td>HRM/ Organizational Psychology</td>\n",
       "      <td>The University of Swansea, UK</td>\n",
       "      <td>Bachelor(finance &amp; Mgt), Masters(MBA &amp; Masters...</td>\n",
       "      <td>HRM, Organizational behaviour, Strategic Mgt, ...</td>\n",
       "      <td>HRM</td>\n",
       "      <td>6 years professional experience + 6 years teac...</td>\n",
       "      <td>Researcher</td>\n",
       "    </tr>\n",
       "    <tr>\n",
       "      <th>4</th>\n",
       "      <td>0</td>\n",
       "      <td>Ned Shearer</td>\n",
       "      <td>London</td>\n",
       "      <td>Chair</td>\n",
       "      <td>Faculty - Business</td>\n",
       "      <td>14-Aug-16</td>\n",
       "      <td>NaN</td>\n",
       "      <td>Full Time</td>\n",
       "      <td>Business</td>\n",
       "      <td>Tony Emmanuel</td>\n",
       "      <td>Ph.D</td>\n",
       "      <td>Ph.D in Economics and International Business</td>\n",
       "      <td>Economics and International Business</td>\n",
       "      <td>New York University, USA</td>\n",
       "      <td>Bachelor( Economics), Masters( Economics and I...</td>\n",
       "      <td>Micro and Macroeconomics, Statistics,Introduct...</td>\n",
       "      <td>Economics and International Business</td>\n",
       "      <td>1 year professional experience + 24 years teac...</td>\n",
       "      <td>Researcher/Curriculum Development</td>\n",
       "    </tr>\n",
       "    <tr>\n",
       "      <th>...</th>\n",
       "      <td>...</td>\n",
       "      <td>...</td>\n",
       "      <td>...</td>\n",
       "      <td>...</td>\n",
       "      <td>...</td>\n",
       "      <td>...</td>\n",
       "      <td>...</td>\n",
       "      <td>...</td>\n",
       "      <td>...</td>\n",
       "      <td>...</td>\n",
       "      <td>...</td>\n",
       "      <td>...</td>\n",
       "      <td>...</td>\n",
       "      <td>...</td>\n",
       "      <td>...</td>\n",
       "      <td>...</td>\n",
       "      <td>...</td>\n",
       "      <td>...</td>\n",
       "      <td>...</td>\n",
       "    </tr>\n",
       "    <tr>\n",
       "      <th>279</th>\n",
       "      <td>0</td>\n",
       "      <td>Cami Wiegand �</td>\n",
       "      <td>Cambridge</td>\n",
       "      <td>FA</td>\n",
       "      <td>Faculty - Business</td>\n",
       "      <td>14-Aug-16</td>\n",
       "      <td>NaN</td>\n",
       "      <td>Full Time</td>\n",
       "      <td>Business</td>\n",
       "      <td>Olu Ebenezer</td>\n",
       "      <td>Ph.D</td>\n",
       "      <td>Economics and Business</td>\n",
       "      <td>Economics</td>\n",
       "      <td>South East European University, Macedonia</td>\n",
       "      <td>Bachelor( Political Science), Masters( Europea...</td>\n",
       "      <td>intro to Economics, EU laws and Regulations, O...</td>\n",
       "      <td>Economics, policy and general business course</td>\n",
       "      <td>9 years professional experience+ 11 years teac...</td>\n",
       "      <td>Researcher</td>\n",
       "    </tr>\n",
       "    <tr>\n",
       "      <th>280</th>\n",
       "      <td>0</td>\n",
       "      <td>Alan Sheely �</td>\n",
       "      <td>Cambridge</td>\n",
       "      <td>FA</td>\n",
       "      <td>Faculty - Business</td>\n",
       "      <td>14-Aug-16</td>\n",
       "      <td>NaN</td>\n",
       "      <td>Full Time</td>\n",
       "      <td>Business</td>\n",
       "      <td>Olu Ebenezer</td>\n",
       "      <td>Ph.D</td>\n",
       "      <td>Management Science</td>\n",
       "      <td>Marketing</td>\n",
       "      <td>University of Economics, Krakow, Poland</td>\n",
       "      <td>Bachelor( Foreign Languages), Masters( America...</td>\n",
       "      <td>Marketing Management, Marketing Research, Cons...</td>\n",
       "      <td>Marketing</td>\n",
       "      <td>16 years professional( consulting) experience ...</td>\n",
       "      <td>Researcher/Curriculum Development</td>\n",
       "    </tr>\n",
       "    <tr>\n",
       "      <th>281</th>\n",
       "      <td>0</td>\n",
       "      <td>Allison Gall �</td>\n",
       "      <td>Cambridge</td>\n",
       "      <td>FA</td>\n",
       "      <td>Faculty - Business</td>\n",
       "      <td>14-Aug-16</td>\n",
       "      <td>NaN</td>\n",
       "      <td>Full Time</td>\n",
       "      <td>Business</td>\n",
       "      <td>Olu Ebenezer</td>\n",
       "      <td>Ph.D</td>\n",
       "      <td>Ph.D</td>\n",
       "      <td>HRM</td>\n",
       "      <td>University of Mauritus, Mauritus</td>\n",
       "      <td>Bachelor( Economics), Masters( Industrial Rela...</td>\n",
       "      <td>HRM, SHRM, Performance and Reward Mgt, Researc...</td>\n",
       "      <td>HRM</td>\n",
       "      <td>14 years professional experience + 9 years tea...</td>\n",
       "      <td>Certification/Researcher</td>\n",
       "    </tr>\n",
       "    <tr>\n",
       "      <th>282</th>\n",
       "      <td>0</td>\n",
       "      <td>Myles Tena �</td>\n",
       "      <td>Cambridge</td>\n",
       "      <td>FA</td>\n",
       "      <td>Faculty - Business</td>\n",
       "      <td>14-Aug-16</td>\n",
       "      <td>NaN</td>\n",
       "      <td>Full Time</td>\n",
       "      <td>Business</td>\n",
       "      <td>Olu Ebenezer</td>\n",
       "      <td>Ph.D</td>\n",
       "      <td>Ph.D</td>\n",
       "      <td>Economic Sociology</td>\n",
       "      <td>University of San Paulo, Brazil</td>\n",
       "      <td>Bachelor(Economics), Masters( Industrial Engin...</td>\n",
       "      <td>Economics and Management</td>\n",
       "      <td>Financial Mgt, Project Mgt, Entrepreneurial Fi...</td>\n",
       "      <td>12 years professional experience + 11 years te...</td>\n",
       "      <td>Researcher</td>\n",
       "    </tr>\n",
       "    <tr>\n",
       "      <th>283</th>\n",
       "      <td>0</td>\n",
       "      <td>Dessie Burruss �</td>\n",
       "      <td>Cambridge</td>\n",
       "      <td>FA</td>\n",
       "      <td>Faculty - Business</td>\n",
       "      <td>14-Aug-16</td>\n",
       "      <td>NaN</td>\n",
       "      <td>Full Time</td>\n",
       "      <td>Business</td>\n",
       "      <td>Olu Ebenezer</td>\n",
       "      <td>Ph.D</td>\n",
       "      <td>Ph.D in Public Policy and Administration</td>\n",
       "      <td>Management and Financial Mgt</td>\n",
       "      <td>Virginia Commonwealth University, USA</td>\n",
       "      <td>Bachelor( Civil Engineering), Masters(Civil En...</td>\n",
       "      <td>Leadership, Organizational Design and Behaviou...</td>\n",
       "      <td>Finance and Management</td>\n",
       "      <td>16 years professional experience +11 year teac...</td>\n",
       "      <td>Researcher</td>\n",
       "    </tr>\n",
       "  </tbody>\n",
       "</table>\n",
       "<p>284 rows × 19 columns</p>\n",
       "</div>"
      ],
      "text/plain": [
       "            ID              Name   Location  Grade               Title  \\\n",
       "0    LT9210743        Jim Hunter     London     FA  Faculty - Business   \n",
       "1    LT9001784        Jose Nadal     London     FA  Faculty - Business   \n",
       "2    LT9062955     Pierre Cornet     London     FA  Faculty - Business   \n",
       "3            0       Sally Smith     London     FA  Faculty - Business   \n",
       "4            0      Ned Shearer      London  Chair  Faculty - Business   \n",
       "..         ...               ...        ...    ...                 ...   \n",
       "279          0    Cami Wiegand �  Cambridge     FA  Faculty - Business   \n",
       "280          0     Alan Sheely �  Cambridge     FA  Faculty - Business   \n",
       "281          0    Allison Gall �  Cambridge     FA  Faculty - Business   \n",
       "282          0      Myles Tena �  Cambridge     FA  Faculty - Business   \n",
       "283          0  Dessie Burruss �  Cambridge     FA  Faculty - Business   \n",
       "\n",
       "    Join\\nDate  LWD       Type   Divison     Reports To  \\\n",
       "0    29-Aug-10  NaN  Full Time  Business    Abbas Houda   \n",
       "1    19-Aug-99  NaN  Full Time  Business    Abbas Houda   \n",
       "2    08-Apr-07  NaN  Full Time  Business    Abbas Houda   \n",
       "3    14-Aug-16  NaN  Full Time  Business    Abbas Houda   \n",
       "4    14-Aug-16  NaN  Full Time  Business  Tony Emmanuel   \n",
       "..         ...  ...        ...       ...            ...   \n",
       "279  14-Aug-16  NaN  Full Time  Business   Olu Ebenezer   \n",
       "280  14-Aug-16  NaN  Full Time  Business   Olu Ebenezer   \n",
       "281  14-Aug-16  NaN  Full Time  Business   Olu Ebenezer   \n",
       "282  14-Aug-16  NaN  Full Time  Business   Olu Ebenezer   \n",
       "283  14-Aug-16  NaN  Full Time  Business   Olu Ebenezer   \n",
       "\n",
       "    Highest\\nQualification\\nLevel  \\\n",
       "0                         Masters   \n",
       "1                         Masters   \n",
       "2                         Masters   \n",
       "3                            Ph.D   \n",
       "4                            Ph.D   \n",
       "..                            ...   \n",
       "279                          Ph.D   \n",
       "280                          Ph.D   \n",
       "281                          Ph.D   \n",
       "282                          Ph.D   \n",
       "283                          Ph.D   \n",
       "\n",
       "                             Highest Qualification  \\\n",
       "0                                   Master of Arts   \n",
       "1                                Master of Science   \n",
       "2                   Master of Business Administrat   \n",
       "3           Ph.D in HRM/ Organizational pyschology   \n",
       "4    Ph.D in Economics and International Business    \n",
       "..                                             ...   \n",
       "279                         Economics and Business   \n",
       "280                             Management Science   \n",
       "281                                           Ph.D   \n",
       "282                                           Ph.D   \n",
       "283      Ph.D in Public Policy and Administration    \n",
       "\n",
       "                                     Major  \\\n",
       "0                    International Affairs   \n",
       "1                Business Info. Technology   \n",
       "2                                Marketing   \n",
       "3           HRM/ Organizational Psychology   \n",
       "4    Economics and International Business    \n",
       "..                                     ...   \n",
       "279                              Economics   \n",
       "280                              Marketing   \n",
       "281                                   HRM    \n",
       "282                     Economic Sociology   \n",
       "283           Management and Financial Mgt   \n",
       "\n",
       "                                    University  \\\n",
       "0                American University of Beirut   \n",
       "1                    University of Northumbria   \n",
       "2                          Griffith University   \n",
       "3                The University of Swansea, UK   \n",
       "4                     New York University, USA   \n",
       "..                                         ...   \n",
       "279  South East European University, Macedonia   \n",
       "280    University of Economics, Krakow, Poland   \n",
       "281           University of Mauritus, Mauritus   \n",
       "282            University of San Paulo, Brazil   \n",
       "283     Virginia Commonwealth University, USA    \n",
       "\n",
       "                       All Qualifications from Profile  \\\n",
       "0    Bachelor of Science (Communications), Master o...   \n",
       "1    Bachelor of Arts (Finance), Certificate (Manag...   \n",
       "2    Certificate (Educating/Teaching Adult), Associ...   \n",
       "3    Bachelor(finance & Mgt), Masters(MBA & Masters...   \n",
       "4    Bachelor( Economics), Masters( Economics and I...   \n",
       "..                                                 ...   \n",
       "279  Bachelor( Political Science), Masters( Europea...   \n",
       "280  Bachelor( Foreign Languages), Masters( America...   \n",
       "281  Bachelor( Economics), Masters( Industrial Rela...   \n",
       "282  Bachelor(Economics), Masters( Industrial Engin...   \n",
       "283  Bachelor( Civil Engineering), Masters(Civil En...   \n",
       "\n",
       "                           Courses Taught- Term 201510  \\\n",
       "0    BUS2403 - Innovation & Entrepreneurship\\nBUS20...   \n",
       "1    BUS4173 - Managerial Accounting II\\nBUS4916 - ...   \n",
       "2    BUS3903 - Contemporary Business\\nBUS1303 - Mar...   \n",
       "3    HRM, Organizational behaviour, Strategic Mgt, ...   \n",
       "4    Micro and Macroeconomics, Statistics,Introduct...   \n",
       "..                                                 ...   \n",
       "279  intro to Economics, EU laws and Regulations, O...   \n",
       "280  Marketing Management, Marketing Research, Cons...   \n",
       "281  HRM, SHRM, Performance and Reward Mgt, Researc...   \n",
       "282                          Economics and Management    \n",
       "283  Leadership, Organizational Design and Behaviou...   \n",
       "\n",
       "                                  MAJOR TEACHING FIELD  \\\n",
       "0                              Business Administration   \n",
       "1                                             Business   \n",
       "2                  Marketing and Strategic Management    \n",
       "3                                                  HRM   \n",
       "4                Economics and International Business    \n",
       "..                                                 ...   \n",
       "279      Economics, policy and general business course   \n",
       "280                                          Marketing   \n",
       "281                                                HRM   \n",
       "282  Financial Mgt, Project Mgt, Entrepreneurial Fi...   \n",
       "283                            Finance and Management    \n",
       "\n",
       "    DOCUMENT OTHER PROFESSIONAL CERTIFICATION CRITIERA Five Years Work Experience Teaching Excellence Professional Certifications  \\\n",
       "0    10+ Years Small Business Ownership, 10+ Years ...                                                                              \n",
       "1    years of teaching experience: 17              ...                                                                              \n",
       "2    Years of teaching experience: 15\\nYears of pro...                                                                              \n",
       "3    6 years professional experience + 6 years teac...                                                                              \n",
       "4    1 year professional experience + 24 years teac...                                                                              \n",
       "..                                                 ...                                                                              \n",
       "279  9 years professional experience+ 11 years teac...                                                                              \n",
       "280  16 years professional( consulting) experience ...                                                                              \n",
       "281  14 years professional experience + 9 years tea...                                                                              \n",
       "282  12 years professional experience + 11 years te...                                                                              \n",
       "283  16 years professional experience +11 year teac...                                                                              \n",
       "\n",
       "                              Criteria  \n",
       "0       Industry & Teaching experience  \n",
       "1                        Certification  \n",
       "2       Industry & Teaching experience  \n",
       "3                           Researcher  \n",
       "4    Researcher/Curriculum Development  \n",
       "..                                 ...  \n",
       "279                         Researcher  \n",
       "280  Researcher/Curriculum Development  \n",
       "281           Certification/Researcher  \n",
       "282                         Researcher  \n",
       "283                         Researcher  \n",
       "\n",
       "[284 rows x 19 columns]"
      ]
     },
     "execution_count": 5575,
     "metadata": {},
     "output_type": "execute_result"
    }
   ],
   "source": [
    "#Reading the file\n",
    "import pandas as pand\n",
    "faculty = pand.read_csv(\"SIS_Faculty_List.csv\")\n",
    "\n",
    "\n",
    "faculty"
   ]
  },
  {
   "cell_type": "code",
   "execution_count": 5576,
   "metadata": {},
   "outputs": [
    {
     "name": "stdout",
     "output_type": "stream",
     "text": [
      "19\n"
     ]
    },
    {
     "data": {
      "text/plain": [
       "['ID',\n",
       " 'Name',\n",
       " 'Location',\n",
       " 'Grade',\n",
       " 'Title',\n",
       " 'Join\\nDate',\n",
       " 'LWD',\n",
       " 'Type',\n",
       " 'Divison',\n",
       " 'Reports To',\n",
       " 'Highest\\nQualification\\nLevel',\n",
       " 'Highest Qualification',\n",
       " 'Major',\n",
       " 'University',\n",
       " 'All Qualifications from Profile',\n",
       " 'Courses Taught- Term 201510',\n",
       " 'MAJOR TEACHING FIELD',\n",
       " 'DOCUMENT OTHER PROFESSIONAL CERTIFICATION CRITIERA Five Years Work Experience Teaching Excellence Professional Certifications',\n",
       " 'Criteria']"
      ]
     },
     "execution_count": 5576,
     "metadata": {},
     "output_type": "execute_result"
    }
   ],
   "source": [
    "#identifying the columns\n",
    "display_columns = faculty.columns.to_list()\n",
    "no_of_cols = faculty.shape[1]\n",
    "print(no_of_cols)\n",
    "display_columns\n"
   ]
  },
  {
   "cell_type": "code",
   "execution_count": 5577,
   "metadata": {},
   "outputs": [
    {
     "data": {
      "text/plain": [
       "array([False, False, False, False, False, False, False, False, False,\n",
       "       False, False, False, False, False, False, False, False, False,\n",
       "       False])"
      ]
     },
     "execution_count": 5577,
     "metadata": {},
     "output_type": "execute_result"
    }
   ],
   "source": [
    "#check column duplicates\n",
    "duplicates = faculty.columns.duplicated()\n",
    "duplicates\n",
    "\n"
   ]
  },
  {
   "cell_type": "code",
   "execution_count": 5578,
   "metadata": {},
   "outputs": [
    {
     "name": "stdout",
     "output_type": "stream",
     "text": [
      "The remaining columns are => 16 => from 19\n"
     ]
    }
   ],
   "source": [
    "#dropping irrelevant droppings\n",
    "\n",
    "new_dataset = faculty.drop([\"LWD\",\"All Qualifications from Profile\",\"DOCUMENT OTHER PROFESSIONAL CERTIFICATION CRITIERA Five Years Work Experience Teaching Excellence Professional Certifications\"],axis=1)\n",
    "new_dataset.to_csv(\"NEW_SIS_Faculty_List.csv\")\n",
    "no=new_dataset.shape[1]\n",
    "print(\"The remaining columns are\",no,\"from 19\",sep=\" => \")"
   ]
  },
  {
   "cell_type": "code",
   "execution_count": 5579,
   "metadata": {},
   "outputs": [],
   "source": [
    "#Renaming columns\n",
    "new_dataset.rename(columns={\"Title\":\"Faculty_Title\"},inplace=True)\n",
    "new_dataset.rename(columns={\"Type\":\"Study_Type\"},inplace=True)\n",
    "#new_dataset.rename(columns={\"DOCUMENT OTHER PROFESSIONAL CERTIFICATION CRITIERA Five Years Work Experience Teaching Excellence Professional Certifications\":\"Certifications\"},inplace=True)\n",
    "new_dataset.to_csv(\"renewed.csv\")\n",
    "sis_faculty = pand.read_csv(\"renewed.csv\")\n",
    "\n",
    "\n"
   ]
  },
  {
   "cell_type": "code",
   "execution_count": 5580,
   "metadata": {},
   "outputs": [
    {
     "name": "stdout",
     "output_type": "stream",
     "text": [
      "------------------------------ID Column----------------------------\n",
      "The Total duplicated record is ========> 40\n",
      "The total missing values is ========> 2\n"
     ]
    }
   ],
   "source": [
    "#Individual Column Analysis\n",
    " \n",
    "\n",
    "\n",
    "#ID Column\n",
    "records = sis_faculty[\"ID\"] \n",
    "duplicates = records.duplicated()\n",
    "\n",
    "s=duplicates.sum()\n",
    "print(\"------------------------------ID Column----------------------------\")\n",
    "print(\"The Total duplicated record is\",s,sep=\" ========> \")\n",
    "nullvalues = records.isnull().sum()\n",
    "print(\"The total missing values is\",nullvalues,sep=\" ========> \")\n",
    "#observe for outliers\n",
    "\n",
    "\n"
   ]
  },
  {
   "cell_type": "code",
   "execution_count": 5581,
   "metadata": {},
   "outputs": [
    {
     "name": "stdout",
     "output_type": "stream",
     "text": [
      "------------------------------Name Column----------------------------\n",
      "The Total duplicated record is ========> 2\n",
      "The total missing values is ========> 0\n"
     ]
    }
   ],
   "source": [
    "#Name Column\n",
    "records = sis_faculty[\"Name\"] \n",
    "duplicates = records.duplicated()\n",
    "\n",
    "s=duplicates.sum()\n",
    "print(\"------------------------------Name Column----------------------------\")\n",
    "print(\"The Total duplicated record is\",s,sep=\" ========> \")\n",
    "nullvalues = records.isnull().sum()\n",
    "print(\"The total missing values is\",nullvalues,sep=\" ========> \")\n",
    "#observe for outliers"
   ]
  },
  {
   "cell_type": "code",
   "execution_count": 5582,
   "metadata": {},
   "outputs": [
    {
     "name": "stdout",
     "output_type": "stream",
     "text": [
      "------------------------------Location Column----------------------------\n",
      "The Total duplicated record is ========> 267\n",
      "The total missing values is ========> 14\n"
     ]
    }
   ],
   "source": [
    "#Location Column\n",
    "records = sis_faculty[\"Location\"]\n",
    "records.to_csv(\"null.csv\") \n",
    "duplicates = records.duplicated()\n",
    "\n",
    "s=duplicates.sum()\n",
    "print(\"------------------------------Location Column----------------------------\")\n",
    "print(\"The Total duplicated record is\",s,sep=\" ========> \")\n",
    "nullvalues = records.isnull().sum()\n",
    "print(\"The total missing values is\",nullvalues,sep=\" ========> \")\n",
    "#observe for outliers"
   ]
  },
  {
   "cell_type": "code",
   "execution_count": 5583,
   "metadata": {},
   "outputs": [
    {
     "name": "stdout",
     "output_type": "stream",
     "text": [
      "------------------------------Grade Column----------------------------\n",
      "The Total duplicated record is ========> 282\n",
      "The total missing values is ========> 0\n"
     ]
    }
   ],
   "source": [
    "#Grade Column\n",
    "records = sis_faculty[\"Grade\"] \n",
    "duplicates = records.duplicated()\n",
    "\n",
    "s=duplicates.sum()\n",
    "print(\"------------------------------Grade Column----------------------------\")\n",
    "print(\"The Total duplicated record is\",s,sep=\" ========> \")\n",
    "nullvalues = records.isnull().sum()\n",
    "print(\"The total missing values is\",nullvalues,sep=\" ========> \")\n",
    "#observe for outliers"
   ]
  },
  {
   "cell_type": "code",
   "execution_count": 5584,
   "metadata": {},
   "outputs": [
    {
     "name": "stdout",
     "output_type": "stream",
     "text": [
      "------------------------------Faculty_Title Column----------------------------\n",
      "The Total duplicated record is ========> 272\n",
      "The total missing values is ========> 0\n"
     ]
    }
   ],
   "source": [
    "#Faculty Title Column\n",
    "records = sis_faculty[\"Faculty_Title\"] \n",
    "duplicates = records.duplicated()\n",
    "\n",
    "s=duplicates.sum()\n",
    "print(\"------------------------------Faculty_Title Column----------------------------\")\n",
    "print(\"The Total duplicated record is\",s,sep=\" ========> \")\n",
    "nullvalues = records.isnull().sum()\n",
    "print(\"The total missing values is\",nullvalues,sep=\" ========> \")\n",
    "#observe for outliers"
   ]
  },
  {
   "cell_type": "code",
   "execution_count": 5585,
   "metadata": {},
   "outputs": [
    {
     "name": "stdout",
     "output_type": "stream",
     "text": [
      "------------------------------Join Date Column----------------------------\n",
      "The Total duplicated record is ========> 140\n",
      "The total missing values is ========> 1\n"
     ]
    }
   ],
   "source": [
    "#Date Column\n",
    "records = sis_faculty[\"Join\\nDate\"] \n",
    "duplicates = records.duplicated()\n",
    "\n",
    "s=duplicates.sum()\n",
    "print(\"------------------------------Join Date Column----------------------------\")\n",
    "print(\"The Total duplicated record is\",s,sep=\" ========> \")\n",
    "nullvalues = records.isnull().sum()\n",
    "print(\"The total missing values is\",nullvalues,sep=\" ========> \")\n",
    "#observe for outliers"
   ]
  },
  {
   "cell_type": "code",
   "execution_count": 5586,
   "metadata": {},
   "outputs": [
    {
     "name": "stdout",
     "output_type": "stream",
     "text": [
      "------------------------------Study_Type Column----------------------------\n",
      "The Total duplicated record is ========> 283\n",
      "The total missing values is ========> 0\n"
     ]
    }
   ],
   "source": [
    "#Study_Type Column\n",
    "records = sis_faculty[\"Study_Type\"] \n",
    "duplicates = records.duplicated()\n",
    "\n",
    "s=duplicates.sum()\n",
    "print(\"------------------------------Study_Type Column----------------------------\")\n",
    "print(\"The Total duplicated record is\",s,sep=\" ========> \")\n",
    "nullvalues = records.isnull().sum()\n",
    "print(\"The total missing values is\",nullvalues,sep=\" ========> \")\n",
    "#observe for outliers"
   ]
  },
  {
   "cell_type": "code",
   "execution_count": 5587,
   "metadata": {},
   "outputs": [
    {
     "name": "stdout",
     "output_type": "stream",
     "text": [
      "------------------------------Divison Column----------------------------\n",
      "The Total duplicated record is ========> 283\n",
      "The total missing values is ========> 0\n"
     ]
    }
   ],
   "source": [
    "#Divison Column\n",
    "records = sis_faculty[\"Divison\"] \n",
    "duplicates = records.duplicated()\n",
    "\n",
    "s=duplicates.sum()\n",
    "print(\"------------------------------Divison Column----------------------------\")\n",
    "print(\"The Total duplicated record is\",s,sep=\" ========> \")\n",
    "nullvalues = records.isnull().sum()\n",
    "print(\"The total missing values is\",nullvalues,sep=\" ========> \")\n",
    "#observe for outliers"
   ]
  },
  {
   "cell_type": "code",
   "execution_count": 5588,
   "metadata": {},
   "outputs": [
    {
     "name": "stdout",
     "output_type": "stream",
     "text": [
      "------------------------------Reports To Column----------------------------\n",
      "The Total duplicated record is ========> 268\n",
      "The total missing values is ========> 4\n"
     ]
    }
   ],
   "source": [
    "#Reports To Column\n",
    "records = sis_faculty[\"Reports To\"] \n",
    "duplicates = records.duplicated()\n",
    "\n",
    "s=duplicates.sum()\n",
    "print(\"------------------------------Reports To Column----------------------------\")\n",
    "print(\"The Total duplicated record is\",s,sep=\" ========> \")\n",
    "nullvalues = records.isnull().sum()\n",
    "print(\"The total missing values is\",nullvalues,sep=\" ========> \")\n",
    "#observe for outliers"
   ]
  },
  {
   "cell_type": "code",
   "execution_count": 5589,
   "metadata": {},
   "outputs": [
    {
     "name": "stdout",
     "output_type": "stream",
     "text": [
      "------------------------------Highest Qualification Level Column----------------------------\n",
      "The Total duplicated record is ========> 265\n",
      "The total missing values is ========> 6\n"
     ]
    }
   ],
   "source": [
    "#Highest\\nQualification\\nLevel Column\n",
    "records = sis_faculty[\"Highest\\nQualification\\nLevel\"] \n",
    "#records.to_csv(\"null.csv\")\n",
    "duplicates = records.duplicated()\n",
    "\n",
    "s=duplicates.sum()\n",
    "print(\"------------------------------Highest Qualification Level Column----------------------------\")\n",
    "print(\"The Total duplicated record is\",s,sep=\" ========> \")\n",
    "nullvalues = records.isnull().sum()\n",
    "print(\"The total missing values is\",nullvalues,sep=\" ========> \")\n",
    "#observe for outliers"
   ]
  },
  {
   "cell_type": "code",
   "execution_count": 5590,
   "metadata": {},
   "outputs": [
    {
     "name": "stdout",
     "output_type": "stream",
     "text": [
      "------------------------------Highest Qualification Column----------------------------\n",
      "The Total duplicated record is ========> 224\n",
      "The total missing values is ========> 6\n"
     ]
    }
   ],
   "source": [
    "#Highest Qualification\n",
    "\n",
    "records = sis_faculty[\"Highest Qualification\"]\n",
    "#records.to_csv(\"null.csv\") \n",
    "duplicates = records.duplicated()\n",
    "\n",
    "s=duplicates.sum()\n",
    "print(\"------------------------------Highest Qualification Column----------------------------\")\n",
    "print(\"The Total duplicated record is\",s,sep=\" ========> \")\n",
    "nullvalues = records.isnull().sum()\n",
    "print(\"The total missing values is\",nullvalues,sep=\" ========> \")\n",
    "#observe for outliers"
   ]
  },
  {
   "cell_type": "code",
   "execution_count": 5591,
   "metadata": {},
   "outputs": [
    {
     "name": "stdout",
     "output_type": "stream",
     "text": [
      "------------------------------Major Column----------------------------\n",
      "The Total duplicated record is ========> 168\n",
      "The total missing values is ========> 22\n"
     ]
    }
   ],
   "source": [
    "#Major\n",
    "\n",
    "records = sis_faculty[\"Major\"] \n",
    "#records.to_csv(\"null.csv\")\n",
    "duplicates = records.duplicated()\n",
    "\n",
    "s=duplicates.sum()\n",
    "print(\"------------------------------Major Column----------------------------\")\n",
    "print(\"The Total duplicated record is\",s,sep=\" ========> \")\n",
    "nullvalues = records.isnull().sum()\n",
    "print(\"The total missing values is\",nullvalues,sep=\" ========> \")\n",
    "#observe for outliers"
   ]
  },
  {
   "cell_type": "code",
   "execution_count": 5592,
   "metadata": {},
   "outputs": [
    {
     "name": "stdout",
     "output_type": "stream",
     "text": [
      "------------------------------University Column----------------------------\n",
      "The Total duplicated record is ========> 69\n",
      "The total missing values is ========> 6\n"
     ]
    }
   ],
   "source": [
    "#University\n",
    "\n",
    "records = sis_faculty[\"University\"] \n",
    "records.to_csv(\"null.csv\")\n",
    "duplicates = records.duplicated()\n",
    "\n",
    "s=duplicates.sum()\n",
    "print(\"------------------------------University Column----------------------------\")\n",
    "print(\"The Total duplicated record is\",s,sep=\" ========> \")\n",
    "nullvalues = records.isnull().sum()\n",
    "print(\"The total missing values is\",nullvalues,sep=\" ========> \")\n",
    "#observe for outliers"
   ]
  },
  {
   "cell_type": "code",
   "execution_count": 5593,
   "metadata": {},
   "outputs": [
    {
     "name": "stdout",
     "output_type": "stream",
     "text": [
      "------------------------------Courses Taught- Term 201510 Column----------------------------\n",
      "The Total duplicated record is ========> 14\n",
      "The total missing values is ========> 11\n"
     ]
    }
   ],
   "source": [
    "#Courses Taught- Term 201510\n",
    "\n",
    "records = sis_faculty[\"Courses Taught- Term 201510\"] \n",
    "records.to_csv(\"null.csv\")\n",
    "duplicates = records.duplicated()\n",
    "\n",
    "s=duplicates.sum()\n",
    "print(\"------------------------------Courses Taught- Term 201510 Column----------------------------\")\n",
    "print(\"The Total duplicated record is\",s,sep=\" ========> \")\n",
    "nullvalues = records.isnull().sum()\n",
    "print(\"The total missing values is\",nullvalues,sep=\" ========> \")\n",
    "#observe for outliers"
   ]
  },
  {
   "cell_type": "code",
   "execution_count": 5594,
   "metadata": {},
   "outputs": [
    {
     "name": "stdout",
     "output_type": "stream",
     "text": [
      "------------------------------MAJOR TEACHING FIELD Column----------------------------\n",
      "The Total duplicated record is ========> 140\n",
      "The total missing values is ========> 59\n"
     ]
    }
   ],
   "source": [
    "#MAJOR TEACHING FIELD\n",
    "\n",
    "records = sis_faculty[\"MAJOR TEACHING FIELD\"] \n",
    "records.to_csv(\"null.csv\")\n",
    "duplicates = records.duplicated()\n",
    "\n",
    "s=duplicates.sum()\n",
    "print(\"------------------------------MAJOR TEACHING FIELD Column----------------------------\")\n",
    "print(\"The Total duplicated record is\",s,sep=\" ========> \")\n",
    "nullvalues = records.isnull().sum()\n",
    "print(\"The total missing values is\",nullvalues,sep=\" ========> \")\n",
    "#observe for outliers"
   ]
  },
  {
   "cell_type": "code",
   "execution_count": 5595,
   "metadata": {},
   "outputs": [
    {
     "name": "stdout",
     "output_type": "stream",
     "text": [
      "------------------------------Criteria Column----------------------------\n",
      "The Total duplicated record is ========> 276\n",
      "The total missing values is ========> 0\n"
     ]
    }
   ],
   "source": [
    "#Criteria\n",
    "\n",
    "records = sis_faculty[\"Criteria\"] \n",
    "records.to_csv(\"null.csv\")\n",
    "duplicates = records.duplicated()\n",
    "\n",
    "s=duplicates.sum()\n",
    "print(\"------------------------------Criteria Column----------------------------\")\n",
    "print(\"The Total duplicated record is\",s,sep=\" ========> \")\n",
    "nullvalues = records.isnull().sum()\n",
    "print(\"The total missing values is\",nullvalues,sep=\" ========> \")\n",
    "#observe for outliers"
   ]
  },
  {
   "cell_type": "code",
   "execution_count": 5596,
   "metadata": {},
   "outputs": [
    {
     "name": "stdout",
     "output_type": "stream",
     "text": [
      "The total missing values in Location is ========> 0\n"
     ]
    }
   ],
   "source": [
    "#1. Changing the null values to a dummy value\n",
    "\n",
    "sis_faculty[\"Location\"] = sis_faculty[\"Location\"].fillna(value=5)\n",
    "records = sis_faculty[\"Location\"]\n",
    "duplicate=records.isnull().sum()\n",
    "print(\"The total missing values in Location is\",duplicate,sep=\" ========> \")\n",
    "sis_faculty.to_csv(\"renewed.csv\")"
   ]
  },
  {
   "cell_type": "code",
   "execution_count": 5597,
   "metadata": {},
   "outputs": [
    {
     "name": "stdout",
     "output_type": "stream",
     "text": [
      "The total missing values in ID is ========> 0\n"
     ]
    }
   ],
   "source": [
    "#2. Changing the null values to a dummy value\n",
    "\n",
    "sis_faculty[\"ID\"] = sis_faculty[\"ID\"].fillna(value=5)\n",
    "records = sis_faculty[\"ID\"]\n",
    "duplicate=records.isnull().sum()\n",
    "print(\"The total missing values in ID is\",duplicate,sep=\" ========> \")\n",
    "sis_faculty.to_csv(\"renewed.csv\")"
   ]
  },
  {
   "cell_type": "code",
   "execution_count": 5598,
   "metadata": {},
   "outputs": [
    {
     "name": "stdout",
     "output_type": "stream",
     "text": [
      "The total missing values in Join\n",
      "Date is ========> 0\n"
     ]
    }
   ],
   "source": [
    "#3. Changing the null values to a dummy value\n",
    "\n",
    "sis_faculty[\"Join\\nDate\"] = sis_faculty[\"Join\\nDate\"].fillna(value=5)\n",
    "records = sis_faculty[\"Join\\nDate\"]\n",
    "duplicate=records.isnull().sum()\n",
    "print(\"The total missing values in Join\\nDate is\",duplicate,sep=\" ========> \")\n",
    "sis_faculty.to_csv(\"renewed.csv\")"
   ]
  },
  {
   "cell_type": "code",
   "execution_count": 5599,
   "metadata": {},
   "outputs": [
    {
     "name": "stdout",
     "output_type": "stream",
     "text": [
      "The total missing values in Reports To is ========> 0\n"
     ]
    }
   ],
   "source": [
    "#4. Changing the null values to a dummy value\n",
    "\n",
    "sis_faculty[\"Reports To\"] = sis_faculty[\"Reports To\"].fillna(value=5)\n",
    "records = sis_faculty[\"Join\\nDate\"]\n",
    "duplicate=records.isnull().sum()\n",
    "print(\"The total missing values in Reports To is\",duplicate,sep=\" ========> \")\n",
    "sis_faculty.to_csv(\"renewed.csv\")"
   ]
  },
  {
   "cell_type": "code",
   "execution_count": 5600,
   "metadata": {},
   "outputs": [
    {
     "name": "stdout",
     "output_type": "stream",
     "text": [
      "The total missing values in Highest Qualification Level is ========> 0\n"
     ]
    }
   ],
   "source": [
    "#5. Changing the null values to a dummy value\n",
    "\n",
    "sis_faculty[\"Highest\\nQualification\\nLevel\"] = sis_faculty[\"Highest\\nQualification\\nLevel\"].fillna(value=5)\n",
    "records = sis_faculty[\"Highest\\nQualification\\nLevel\"]\n",
    "duplicate=records.isnull().sum()\n",
    "print(\"The total missing values in Highest Qualification Level is\",duplicate,sep=\" ========> \")\n",
    "sis_faculty.to_csv(\"renewed.csv\")"
   ]
  },
  {
   "cell_type": "code",
   "execution_count": 5601,
   "metadata": {},
   "outputs": [
    {
     "name": "stdout",
     "output_type": "stream",
     "text": [
      "The total missing values in Highest Qualification is ========> 0\n"
     ]
    }
   ],
   "source": [
    "#6. Changing the null values to a dummy value\n",
    "\n",
    "sis_faculty[\"Highest Qualification\"] = sis_faculty[\"Highest Qualification\"].fillna(value=5)\n",
    "records = sis_faculty[\"Highest Qualification\"]\n",
    "duplicate=records.isnull().sum()\n",
    "print(\"The total missing values in Highest Qualification is\",duplicate,sep=\" ========> \")\n",
    "sis_faculty.to_csv(\"renewed.csv\")"
   ]
  },
  {
   "cell_type": "code",
   "execution_count": 5602,
   "metadata": {},
   "outputs": [
    {
     "name": "stdout",
     "output_type": "stream",
     "text": [
      "The total missing values in Major is ========> 0\n"
     ]
    }
   ],
   "source": [
    "#7. Changing the null values to a dummy value\n",
    "\n",
    "sis_faculty[\"Major\"] = sis_faculty[\"Major\"].fillna(value=5)\n",
    "records = sis_faculty[\"Major\"]\n",
    "duplicate=records.isnull().sum()\n",
    "print(\"The total missing values in Major is\",duplicate,sep=\" ========> \")\n",
    "sis_faculty.to_csv(\"renewed.csv\")"
   ]
  },
  {
   "cell_type": "code",
   "execution_count": 5603,
   "metadata": {},
   "outputs": [
    {
     "name": "stdout",
     "output_type": "stream",
     "text": [
      "The total missing values in Major is ========> 0\n"
     ]
    }
   ],
   "source": [
    "#8. University\n",
    "\n",
    "sis_faculty[\"University\"] = sis_faculty[\"University\"].fillna(value=5)\n",
    "records = sis_faculty[\"University\"]\n",
    "duplicate=records.isnull().sum()\n",
    "print(\"The total missing values in Major is\",duplicate,sep=\" ========> \")\n",
    "sis_faculty.to_csv(\"renewed.csv\")"
   ]
  },
  {
   "cell_type": "code",
   "execution_count": 5604,
   "metadata": {},
   "outputs": [
    {
     "name": "stdout",
     "output_type": "stream",
     "text": [
      "The total missing values in Major is ========> 0\n"
     ]
    }
   ],
   "source": [
    "#8. Courses Taught- Term 201510\n",
    "\n",
    "sis_faculty[\"Courses Taught- Term 201510\"] = sis_faculty[\"Courses Taught- Term 201510\"].fillna(value=5)\n",
    "records = sis_faculty[\"Courses Taught- Term 201510\"]\n",
    "duplicate=records.isnull().sum()\n",
    "print(\"The total missing values in Major is\",duplicate,sep=\" ========> \")\n",
    "sis_faculty.to_csv(\"renewed.csv\")"
   ]
  },
  {
   "cell_type": "code",
   "execution_count": 5605,
   "metadata": {},
   "outputs": [
    {
     "name": "stdout",
     "output_type": "stream",
     "text": [
      "The total missing values in Major is ========> 0\n"
     ]
    }
   ],
   "source": [
    "\n",
    "#8. MAJOR TEACHING FIELD\n",
    "\n",
    "sis_faculty[\"MAJOR TEACHING FIELD\"] = sis_faculty[\"MAJOR TEACHING FIELD\"].fillna(value=5)\n",
    "records = sis_faculty[\"MAJOR TEACHING FIELD\"]\n",
    "duplicate=records.isnull().sum()\n",
    "print(\"The total missing values in Major is\",duplicate,sep=\" ========> \")\n",
    "sis_faculty.to_csv(\"renewed.csv\")\n"
   ]
  },
  {
   "cell_type": "code",
   "execution_count": 5606,
   "metadata": {},
   "outputs": [],
   "source": [
    "# 1. ID\n",
    "\n",
    "#Replacing the ZERO values...... 0 => LT0000000\n",
    "\n",
    "sis_faculty.loc[sis_faculty[\"ID\"] == \"0\", \"ID\"] = \"LT0000000\"\n",
    "sis_faculty.loc[sis_faculty[\"ID\"] == 5, \"ID\"] = \"LTWASNULLL\"\n",
    "sis_faculty= sis_faculty.drop([\"Unnamed: 0\"],axis=1)\n",
    "Col_update=sis_faculty[\"ID\"]\n",
    "Col_update.to_csv(\"Column_records_Updated.csv\")\n",
    "\n",
    "\n",
    "sis_faculty.to_csv(\"renewed.csv\")\n",
    "\n"
   ]
  },
  {
   "cell_type": "code",
   "execution_count": 5607,
   "metadata": {},
   "outputs": [],
   "source": [
    "# 2. Name\n",
    "\n",
    "#Solving for outliers\n",
    "\n",
    "sis_faculty[\"Name\"] = sis_faculty[\"Name\"].str.replace(\"�\", \"\")\n",
    "Col_update=sis_faculty[\"Name\"]\n",
    "Col_update.to_csv(\"Column_records_Updated.csv\")\n",
    "sis_faculty.to_csv(\"renewed.csv\")\n"
   ]
  },
  {
   "cell_type": "code",
   "execution_count": 5608,
   "metadata": {},
   "outputs": [],
   "source": [
    "# 3. Location\n",
    "\n",
    "#Solving for NullValues\n",
    "\n",
    "sis_faculty.loc[sis_faculty[\"Location\"] == 5, \"Location\"] = \"Kenya\"\n",
    "Col_update=sis_faculty[\"Location\"]\n",
    "Col_update.iloc[Col_update[45]==\"Kenya\",45]=\"London\"\n",
    "Col_update.iloc[Col_update[46]==\"Kenya\",46]=\"south Africa\"\n",
    "Col_update.iloc[Col_update[47]==\"Kenya\",47]=\"Canada\"\n",
    "Col_update.iloc[Col_update[48]==\"Kenya\",48]=\"United Kingdom\"\n",
    "Col_update.iloc[Col_update[49]==\"Kenya\",49]=\"America\"\n",
    "Col_update.iloc[Col_update[50]==\"Kenya\",50]=\"America\"\n",
    "Col_update.iloc[Col_update[51]==\"Kenya\",51]=\"Cyprus\"\n",
    "Col_update.iloc[Col_update[52]==\"Kenya\",52]=\"Singapore\"\n",
    "Col_update.iloc[Col_update[53]==\"Kenya\",53]=\"America\"\n",
    "Col_update.iloc[Col_update[54]==\"Kenya\",54]=\"Malaysia\"\n",
    "Col_update.iloc[Col_update[55]==\"Kenya\",55]=\"Italy\"\n",
    "Col_update.iloc[Col_update[56]==\"Kenya\",56]=\"France\"\n",
    "Col_update.iloc[Col_update[57]==\"Kenya\",57]=\"France\"\n",
    "Col_update.iloc[Col_update[58]==\"Kenya\",58]=\"America\"\n",
    "\n",
    "Col_update.to_csv(\"Column_records_Updated.csv\")\n",
    "\n",
    "\n",
    "sis_faculty.to_csv(\"renewed.csv\")\n",
    "\n"
   ]
  },
  {
   "cell_type": "code",
   "execution_count": 5609,
   "metadata": {},
   "outputs": [],
   "source": [
    "# 4. Grade\n",
    "\n",
    "#Solving for Outlier\n",
    "\n",
    "sis_faculty.loc[sis_faculty[\"Grade\"] == \"Chair\", \"Grade\"] = \"FSA\"\n",
    "Col_update=sis_faculty[\"Grade\"]\n",
    "Col_update.to_csv(\"Column_records_Updated.csv\")\n",
    "\n",
    "\n",
    "sis_faculty.to_csv(\"renewed.csv\")"
   ]
  },
  {
   "cell_type": "code",
   "execution_count": 5610,
   "metadata": {},
   "outputs": [],
   "source": [
    "# 5. Faculty_Title\n",
    "\n",
    "#Solving for Outlier\n",
    "\n",
    "#sis_faculty.loc[sis_faculty[\"Faculty_Title\"] == \"Adjunct Faculty - Business\", \"Faculty_Title\"] = \"\"\n",
    "sis_faculty.loc[sis_faculty[\"Faculty_Title\"] == \"Business, Comp & Math Faculty\", \"Faculty_Title\"] = \"Faculty - Business, Comp & Math\"\n",
    "sis_faculty.loc[sis_faculty[\"Faculty_Title\"] == \"Graduate Trainee\", \"Faculty_Title\"] = \"Faculty - Trainee\"\n",
    "Col_update=sis_faculty[\"Faculty_Title\"]\n",
    "Col_update.to_csv(\"Column_records_Updated.csv\")\n",
    "\n",
    "\n",
    "sis_faculty.to_csv(\"renewed.csv\")"
   ]
  },
  {
   "cell_type": "code",
   "execution_count": 5611,
   "metadata": {},
   "outputs": [],
   "source": [
    "# 6. Date\n",
    "\n",
    "#Solving for NullValues replace with current date\n",
    "\n",
    "sis_faculty.loc[sis_faculty[\"Join\\nDate\"] == 5, \"Join\\nDate\"] = \"5-JuL-24\"\n",
    "Col_update=sis_faculty[\"Join\\nDate\"]\n",
    "Col_update.to_csv(\"Column_records_Updated.csv\")\n",
    "\n",
    "\n",
    "sis_faculty.to_csv(\"renewed.csv\")"
   ]
  },
  {
   "cell_type": "code",
   "execution_count": 5612,
   "metadata": {},
   "outputs": [],
   "source": [
    "# 7. Study_Type\n",
    "\n",
    "#No change\n",
    "\n",
    "\n",
    "Col_update=sis_faculty[\"Study_Type\"]\n",
    "Col_update.to_csv(\"Column_records_Updated.csv\")\n",
    "\n",
    "\n",
    "sis_faculty.to_csv(\"renewed.csv\")"
   ]
  },
  {
   "cell_type": "code",
   "execution_count": 5613,
   "metadata": {},
   "outputs": [],
   "source": [
    "# 8. Divison\n",
    "\n",
    "#No change\n",
    "\n",
    "\n",
    "Col_update=sis_faculty[\"Divison\"]\n",
    "Col_update.to_csv(\"Column_records_Updated.csv\")\n",
    "\n",
    "\n",
    "sis_faculty.to_csv(\"renewed.csv\")"
   ]
  },
  {
   "cell_type": "code",
   "execution_count": 5614,
   "metadata": {},
   "outputs": [],
   "source": [
    "# 9. Reports To\n",
    "\n",
    "#Solving for NullValues replace with John Mwangi\n",
    "\n",
    "sis_faculty.loc[sis_faculty[\"Reports To\"] == 5, \"Reports To\"] = \"John Mwangi\"\n",
    "Col_update=sis_faculty[\"Reports To\"]\n",
    "Col_update.to_csv(\"Column_records_Updated.csv\")\n",
    "\n",
    "\n",
    "sis_faculty.to_csv(\"renewed.csv\")"
   ]
  },
  {
   "cell_type": "code",
   "execution_count": 5615,
   "metadata": {},
   "outputs": [],
   "source": [
    "# 10. Highest\\nQualification\\nLevel\n",
    "\n",
    "#Solving for NullValues replace with Masters\n",
    "\n",
    "sis_faculty.loc[sis_faculty[\"Highest\\nQualification\\nLevel\"] == 5, \"Highest\\nQualification\\nLevel\"] = \"Masters\"\n",
    "\n",
    "#Solve for outliers\n",
    "sis_faculty.loc[sis_faculty[\"Highest\\nQualification\\nLevel\"].isin([\n",
    "    \"MBA in Banking & Finance\",\n",
    "    \"Doctor of Jurisprudence Degree\",\n",
    "    \"Master of International Business\",\n",
    "    \"Ph.D in Organization and Management \",\n",
    "    \"Master of Business Administration (MBA) and MA (Economics)\",\n",
    "    \"Bachelor (Applied Science) in Business administration( Human Resources )\",\n",
    "    \"Masters (Business Administration), Master of Philosophy (Business)\",\n",
    "    \"PhD Corporate Governance and Accounting\",\n",
    "    \"Master's Degree in Public Relations and Press Office Management\",\n",
    "    \"Maters of Philosophy (Economics)\",\n",
    "    \"�Ph. D. (Business Administration)\",\n",
    "    \"�Doctorate of Business Administration\",\n",
    "    \"Ph.D (Economics)\"\n",
    "]), \"Highest\\nQualification\\nLevel\"] = [\n",
    "    \"Masters\",\n",
    "    \"Masters\",\n",
    "    \"Masters\",\n",
    "    \"Ph.D\",\n",
    "    \"Masters\",\n",
    "    \"Masters\",\n",
    "    \"Masters\",\n",
    "    \"Ph.D\",\n",
    "    \"Masters\",\n",
    "    \"Masters\",\n",
    "    \"Ph.D\",\n",
    "    \"Doctorate\",\n",
    "    \"Ph.D\"\n",
    "]\n",
    "Col_update=sis_faculty[\"Highest\\nQualification\\nLevel\"]\n",
    "Col_update.to_csv(\"Column_records_Updated.csv\")\n",
    "\n",
    "\n",
    "sis_faculty.to_csv(\"renewed.csv\")"
   ]
  },
  {
   "cell_type": "code",
   "execution_count": 5616,
   "metadata": {},
   "outputs": [],
   "source": [
    "# 11. Highest Qualification\n",
    "\n",
    "#Solving for NullValues replace with Master of Business Administration\n",
    "\n",
    "sis_faculty.loc[sis_faculty[\"Highest Qualification\"] == 5, \"Highest Qualification\"] = \"Master of Business Administration\"\n",
    "\n",
    "\n",
    "#Solve for outliers\n",
    "sis_faculty.loc[sis_faculty[\"Highest Qualification\"] == \"Ph.D\", \"Highest Qualification\"] = \"Ph.D in Business Administration\"\n",
    "sis_faculty.loc[sis_faculty[\"Highest Qualification\"] == \"Masters\", \"Highest Qualification\"] = \"Master of Business Administration\"\n",
    "sis_faculty.loc[sis_faculty[\"Highest Qualification\"] == \"Bachelor\", \"Highest Qualification\"] = \"Bachelor of Business Administration\"\n",
    "sis_faculty.loc[sis_faculty[\"Highest Qualification\"] == \"Doctorate in Business Admin\", \"Highest Qualification\"] = \"Doctorate in Business Administration\"\n",
    "sis_faculty.loc[sis_faculty[\"Highest Qualification\"] == \"Doctorate\", \"Highest Qualification\"] = \"Doctorate in Business Administration\"\n",
    "sis_faculty.loc[sis_faculty[\"Highest Qualification\"] == \"Master of Business Administrat\", \"Highest Qualification\"] = \"Master of Business Administration\"\n",
    "sis_faculty.loc[sis_faculty[\"Highest Qualification\"] == \"MBA\", \"Highest Qualification\"] = \"Master of Business Administration\"\n",
    "sis_faculty.loc[sis_faculty[\"Highest Qualification\"] == \"Executive MBA\", \"Highest Qualification\"] = \"Master of Business Administration\"\n",
    "sis_faculty.loc[sis_faculty[\"Highest Qualification\"] == \"MA in Accounting\", \"Highest Qualification\"] = \"Master of Accounting\"\n",
    "sis_faculty.loc[sis_faculty[\"Highest Qualification\"] == \"Master of\", \"Highest Qualification\"] = \"Master of Accounting\"\n",
    "sis_faculty.loc[sis_faculty[\"Highest Qualification\"] == \"MA International Business\", \"Highest Qualification\"] = \"Master of International Business\"\n",
    "sis_faculty.loc[sis_faculty[\"Highest Qualification\"] == \"Masters of Distance Education\", \"Highest Qualification\"] = \"Master of Distance Education\"\n",
    "sis_faculty.loc[sis_faculty[\"Highest Qualification\"] == \"International Business &Market\", \"Highest Qualification\"] = \"Bachelor of International Business &Market\"\n",
    "sis_faculty.loc[sis_faculty[\"Highest Qualification\"] == \"Bachelor (Applied Science) in Business administration( Human Resources )\", \"Highest Qualification\"] = \"Bachelor of (Applied Science) in Business administration( Human Resources )\"\n",
    "sis_faculty.loc[sis_faculty[\"Highest Qualification\"] == \"MA in Teaching\", \"Highest Qualification\"] = \"Master of Teaching\"\n",
    "sis_faculty.loc[sis_faculty[\"Highest Qualification\"] == \"Management Science\", \"Highest Qualification\"] = \"Bachelor of Management Science\"\n",
    "sis_faculty.loc[sis_faculty[\"Highest Qualification\"] == \"Maters of Philosophy (Economics)\", \"Highest Qualification\"] = \"Master of Philosophy (Economics)\"\n",
    "sis_faculty.loc[sis_faculty[\"Highest Qualification\"] == \"Master's Degree in Public Relations and Press Office Management\", \"Highest Qualification\"] = \"Master of Public Relations and Press Office Management\"\n",
    "sis_faculty.loc[sis_faculty[\"Highest Qualification\"] == \"Masters (Business Administration), Master of Philosophy (Business)\", \"Highest Qualification\"] = \"Master of Business Administration, Business Philosophy\"\n",
    "\n",
    "\n",
    "Col_update=sis_faculty[\"Highest Qualification\"]\n",
    "Col_update.to_csv(\"Column_records_Updated.csv\")\n",
    "\n",
    "\n",
    "#sis_faculty.to_csv(\"renewed.csv\")"
   ]
  },
  {
   "cell_type": "code",
   "execution_count": 5617,
   "metadata": {},
   "outputs": [],
   "source": [
    "# 12. Major\n",
    "\n",
    "#Solving for NullValues replace with Business Administration\n",
    "\n",
    "sis_faculty.loc[sis_faculty[\"Major\"] == 5, \"Major\"] = \"Business Administration\"\n",
    "\n",
    "\n",
    "sis_faculty.loc[sis_faculty[\"Major\"] == \"Business Info. Technology\", \"Major\"] = \"Business Information Technology\"\n",
    "sis_faculty.loc[sis_faculty[\"Major\"] == \"eBusiness Policy Development\", \"Major\"] = \"Business Policy Development\"\n",
    "sis_faculty.loc[sis_faculty[\"Major\"] == \"Management\", \"Major\"] = \"Business Management\"\n",
    "sis_faculty.loc[sis_faculty[\"Major\"] == \"Business\", \"Major\"] = \"Business Management\"\n",
    "sis_faculty.loc[sis_faculty[\"Major\"] == \"Business Adm (General)\", \"Major\"] = \"Business General Administration\"\n",
    "sis_faculty.loc[sis_faculty[\"Major\"] == \"Intl Law and Intl Relations\", \"Major\"] = \"International Law and International Relations\"\n",
    "sis_faculty.loc[sis_faculty[\"Major\"] == \"HRM and Strategic Mgt\", \"Major\"] = \"Human Resource Management and Strategic Management\"\n",
    "sis_faculty.loc[sis_faculty[\"Major\"] == \"Managerial Economics/ Business Strategy\", \"Major\"] = \"Managerial Economics or Business Strategy\"\n",
    "sis_faculty.loc[sis_faculty[\"Major\"] == \"Oper. Resch. & Mgt. Info. Sys.\", \"Major\"] = \"Operation Research and Management Information System.\"\n",
    "sis_faculty.loc[sis_faculty[\"Major\"] == \"Accounting & Finance\", \"Major\"] = \"Accounting and Finance\"\n",
    "sis_faculty.loc[sis_faculty[\"Major\"] == \"Leadership & Management\", \"Major\"] = \"Leadership and Management\"\n",
    "sis_faculty.loc[sis_faculty[\"Major\"] == \"Executive MBA\", \"Major\"] = \"Executive Business Administration\"\n",
    "sis_faculty.loc[sis_faculty[\"Major\"] == \"Commerce & Management Studies\", \"Major\"] = \"Commerce and Management Studies\"\n",
    "sis_faculty.loc[sis_faculty[\"Major\"] == \"Public Admin & Public Policy\", \"Major\"] = \"Public Admin and Public Policy\"\n",
    "sis_faculty.loc[sis_faculty[\"Major\"] == \"HRM/ Organizational Psychology\", \"Major\"] = \"Human Resource management or Organizational Psychology\"\n",
    "sis_faculty.loc[sis_faculty[\"Major\"] == \"Economics& Management\", \"Major\"] = \"Economics and Management\"\n",
    "sis_faculty.loc[sis_faculty[\"Major\"] == \"Commericial & Corporate Law\", \"Major\"] = \"Commericial and Corporate Law\"\n",
    "sis_faculty.loc[sis_faculty[\"Major\"] == \"HRM\", \"Major\"] = \"Human Resource Management\"\n",
    "sis_faculty.loc[sis_faculty[\"Major\"] == \"HRM and Organizational Behaviour \", \"Major\"] = \"Human Resource and Organizational Behaviour \"\n",
    "sis_faculty.loc[sis_faculty[\"Major\"] == \"Integrtd Textile & Apparel Sci\", \"Major\"] = \"Integrated Textile and Apparel Science\"\n",
    "sis_faculty.loc[sis_faculty[\"Major\"] == \"Criminology & Criminal Justice\", \"Major\"] = \"Criminology and Criminal Justice\"\n",
    "sis_faculty.loc[sis_faculty[\"Major\"] == \"TESOL\", \"Major\"] = \"International Association\"\n",
    "sis_faculty.loc[sis_faculty[\"Major\"] == \"Business Adm (Hum Resources)\", \"Major\"] = \"Business Administration\"\n",
    "sis_faculty.loc[sis_faculty[\"Major\"] == \"Strategic Business & IT\", \"Major\"] = \"Strategic Business and Information Technology\"\n",
    "sis_faculty.loc[sis_faculty[\"Major\"] == \"Global Human Resource Mngt\", \"Major\"] = \"Global Human Resource Management\"\n",
    "sis_faculty.loc[sis_faculty[\"Major\"] == \"Advanced Info Systems & Mgt\", \"Major\"] = \"Advanced Info Systems and Management\"\n",
    "sis_faculty.loc[sis_faculty[\"Major\"] == \"Tourism Tourist & Hotel Mgt.\", \"Major\"] = \"Tourism Tourist and Hotel Management\"\n",
    "sis_faculty.loc[sis_faculty[\"Major\"] == \"Risk Management & FS Analysis\", \"Major\"] = \"Risk Management and Finding Solution Analysis\"\n",
    "sis_faculty.loc[sis_faculty[\"Major\"] == \"Management and Financial Mgt\", \"Major\"] = \"Management and Financial Management\"\n",
    "\n",
    "\n",
    "Col_update=sis_faculty[\"Major\"]\n",
    "Col_update.iloc[Col_update[106]==\"Finance/ Economics\",106]=\"Finance and Economics\"\n",
    "Col_update.iloc[Col_update[137]==\"Tourism Tourist & Hotel Mgt.\",137]=\"Tourism Tourist and Hotel Management\"\n",
    "Col_update.iloc[Col_update[169]==\"Organisation Mgmt IT Mgmt\",169]=\"Organisation Management Information Technology Management\"\n",
    "Col_update.to_csv(\"Column_records_Updated.csv\")\n",
    "Col_update.iloc[Col_update[11]==\"Business Administration\",11]=\"Finance and Economics\"\n",
    "\n",
    "#sis_faculty.to_csv(\"renewed.csv\")"
   ]
  },
  {
   "cell_type": "code",
   "execution_count": 5618,
   "metadata": {},
   "outputs": [],
   "source": [
    "# 13. University\n",
    "\n",
    "#Solving for NullValues replace with Friedrich-Schiller-Univ Jena\n",
    "sis_faculty[\"University\"] = sis_faculty[\"University\"].str.replace(\"Univ\", \"University\")\n",
    "sis_faculty.loc[sis_faculty[\"University\"] == 5, \"University\"] = \"Friedrich-Schiller-Univ Jena\"\n",
    "Col_update=sis_faculty[\"University\"]\n",
    "\n",
    "Col_update.iloc[Col_update[19]==\"Friedrich-Schiller-Univ Jena\",19]=\"CapePeninsula UnivofTechnology\"\n",
    "Col_update.iloc[Col_update[99]==\"Friedrich-Schiller-Univ Jena\",99]=\"CapePeninsula UnivofTechnology\"\n",
    "Col_update.iloc[Col_update[101]==\"Friedrich-Schiller-Univ Jena\",101]=\"CapePeninsula UnivofTechnology\"\n",
    "Col_update.iloc[Col_update[245]==\"Friedrich-Schiller-Univ Jena\",245]=\"London South Bank University\"\n",
    "Col_update.iloc[Col_update[244]==\"E�tv�s Lor�nd University\",244]=\"Eötvös Loránd University\"\n",
    "Col_update.iloc[Col_update[258]==\"Friedrich-Schiller-Univ Jena\",258]=\"University of Huddersfield\"\n",
    "Col_update.iloc[Col_update[241]==\"�Maastricht School of Management\",241]=\"Maastricht School of Management\"\n",
    "Col_update.iloc[Col_update[253]==\"�Universitat Aut�noma de Barcelona\",253]=\"Autònoma de Barcelona\"\n",
    "Col_update.iloc[Col_update[256]==\"The Univ. of Western Australia\",256]=\"The University of Western Australia\"\n",
    "Col_update.iloc[Col_update[242]==\"Royal Melbourne Inst. of Tech\",242]=\"Royal Melbourne Institute of Technology\"\n",
    "Col_update.iloc[Col_update[240]==\"Univ of Southern Queensland\",240]=\"University of Southern Queensland\"\n",
    "\n",
    "Col_update.iloc[Col_update[205]==\"NelsonMandela Metropolitan Unv\",205]=\"NelsonMandela Metropolitan University\"\n",
    "Col_update.iloc[Col_update[198]==\"Arab Academy for Sci & Tech\",198]=\"Arab Academy for Science and Technology\"\n",
    "Col_update.iloc[Col_update[187]==\"University of Mumbai (Bombay)\",187]=\"University of Mumbai\"\n",
    "Col_update.iloc[Col_update[178]==\"Birla Institute of Tech & Sc.\",178]=\"Birla Institute of Technology and science\"\n",
    "Col_update.iloc[Col_update[253]==\"Univ of Southern Queensland\",253]=\"University of Southern Queensland\"\n",
    "Col_update.iloc[Col_update[158]==\"American Grad Sch of Intl Mgmt\",158]=\"American Grad School of International Management\"\n",
    "Col_update.iloc[Col_update[54]==\"International Islamic University< Malaysia\",54]=\"International Islamic University, Malaysia\"\n",
    "Col_update.iloc[Col_update[277]==\"�Universityersita' degli Studi di Ferrara\",277]=\"Università degli Studi di Ferrara\"\n",
    "\n",
    "\n",
    "Col_update.to_csv(\"Column_records_Updated.csv\")\n",
    "\n",
    "\n",
    "sis_faculty.to_csv(\"renewed.csv\")"
   ]
  },
  {
   "cell_type": "code",
   "execution_count": 5619,
   "metadata": {},
   "outputs": [],
   "source": [
    "# 14. Courses Taught- Term 201510\n",
    "\n",
    "#Solving for NullValues replace with BUS3903 - Contemporary Business\\nBUS1403 - Business Ethics and Corporate\n",
    "sis_faculty[\"Courses Taught- Term 201510\"] = sis_faculty[\"Courses Taught- Term 201510\"].str.replace(\"Mgt\", \"Management\")\n",
    "sis_faculty[\"Courses Taught- Term 201510\"] = sis_faculty[\"Courses Taught- Term 201510\"].str.replace(\"Sc\", \"School\")\n",
    "sis_faculty[\"Courses Taught- Term 201510\"] = sis_faculty[\"Courses Taught- Term 201510\"].str.replace(\"Proj\", \"Project\")\n",
    "sis_faculty[\"Courses Taught- Term 201510\"] = sis_faculty[\"Courses Taught- Term 201510\"].str.replace(\"Admin\", \"Administration\")\n",
    "sis_faculty.loc[sis_faculty[\"Courses Taught- Term 201510\"] == 5, \"Courses Taught- Term 201510\"] = \"BUS3903 - Contemporary Business\\nBUS1403 - Business Ethics and Corporate\"\n",
    "Col_update=sis_faculty[\"Courses Taught- Term 201510\"]\n",
    "Col_update.to_csv(\"Column_records_Updated.csv\")\n",
    "\n",
    "sis_faculty.to_csv(\"renewed.csv\")"
   ]
  },
  {
   "cell_type": "code",
   "execution_count": 5620,
   "metadata": {},
   "outputs": [],
   "source": [
    "\n",
    "# 15. MAJOR TEACHING FIELD\n",
    "\n",
    "#Solving for NullValues replace with Business\n",
    "sis_faculty.loc[sis_faculty[\"MAJOR TEACHING FIELD\"] == 5, \"MAJOR TEACHING FIELD\"] = \"Business\"\n",
    "sis_faculty[\"MAJOR TEACHING FIELD\"] = sis_faculty[\"MAJOR TEACHING FIELD\"].str.replace(\"�\", \"\")\n",
    "sis_faculty[\"MAJOR TEACHING FIELD\"] = sis_faculty[\"MAJOR TEACHING FIELD\"].str.replace(\"HRM\", \"Human Resource Management\")\n",
    "sis_faculty[\"MAJOR TEACHING FIELD\"] = sis_faculty[\"MAJOR TEACHING FIELD\"].str.replace(\"Mgt\", \"management\")\n",
    "\n",
    "sis_faculty[\"MAJOR TEACHING FIELD\"] = sis_faculty[\"MAJOR TEACHING FIELD\"].str.replace(\"Management, Business Statistics\", \"Business Management or Statistics\")\n",
    "sis_faculty[\"MAJOR TEACHING FIELD\"] = sis_faculty[\"MAJOR TEACHING FIELD\"].str.replace(\"General ManagementorEntrepreneurship\", \"General Management or Entrepreneurship\")\n",
    "sis_faculty[\"MAJOR TEACHING FIELD\"] = sis_faculty[\"MAJOR TEACHING FIELD\"].str.replace(\";\", \" or\")\n",
    "sis_faculty[\"MAJOR TEACHING FIELD\"] = sis_faculty[\"MAJOR TEACHING FIELD\"].str.replace(\"Management ,Strategy and Marketing\", \"Management or Strategy and Marketing\")\n",
    "sis_faculty[\"MAJOR TEACHING FIELD\"] = sis_faculty[\"MAJOR TEACHING FIELD\"].str.replace(\",\", \" or\")\n",
    "sis_faculty[\"MAJOR TEACHING FIELD\"] = sis_faculty[\"MAJOR TEACHING FIELD\"].str.replace(\"\\\"Business (Economics, Finance)\\\"\", \"Economics or Finance\")\n",
    "sis_faculty[\"MAJOR TEACHING FIELD\"] = sis_faculty[\"MAJOR TEACHING FIELD\"].str.replace(\"\\\"Business (Management, Finance, Accounting)\\\"\", \"Management or Finance or Accounting\")\n",
    "sis_faculty[\"MAJOR TEACHING FIELD\"] = sis_faculty[\"MAJOR TEACHING FIELD\"].str.replace(\"\\\"\", \"\")\n",
    "sis_faculty[\"MAJOR TEACHING FIELD\"] = sis_faculty[\"MAJOR TEACHING FIELD\"].str.replace(\"  (in : General Business Admin)& Bachelor ( in:Economics)\", \"General Business Administration and Economics\")\n",
    "\n",
    "\n",
    "\n",
    "\n",
    "sis_faculty[\"MAJOR TEACHING FIELD\"] = sis_faculty[\"MAJOR TEACHING FIELD\"].str.replace(\"and Career Related Courses\", \"\")\n",
    "sis_faculty[\"MAJOR TEACHING FIELD\"] = sis_faculty[\"MAJOR TEACHING FIELD\"].str.replace(\"/\", \"or\")\n",
    "sis_faculty[\"MAJOR TEACHING FIELD\"] = sis_faculty[\"MAJOR TEACHING FIELD\"].str.replace(\"AccountingorFinanceorManagement\", \"Accounting and Finance Management\")\n",
    "\n",
    "sis_faculty[\"MAJOR TEACHING FIELD\"] = sis_faculty[\"MAJOR TEACHING FIELD\"].str.replace(\"General Business or Management\", \"General Business Management\")\n",
    "sis_faculty[\"MAJOR TEACHING FIELD\"] = sis_faculty[\"MAJOR TEACHING FIELD\"].str.replace(\"Transport and Logistics or Business Administration orManagementorSoftware Applications and General Business\", \"Transport and Logistics or Business Administration Management or Software Applications and General Business\")\n",
    "sis_faculty[\"MAJOR TEACHING FIELD\"] = sis_faculty[\"MAJOR TEACHING FIELD\"].str.replace(\"General BusinessorEntrepreneurship\", \"General Business or Entrepreneurship\")\n",
    "sis_faculty[\"MAJOR TEACHING FIELD\"] = sis_faculty[\"MAJOR TEACHING FIELD\"].str.replace(\"Marketing , General Business \", \"Marketing or General Business\")\n",
    "sis_faculty[\"MAJOR TEACHING FIELD\"] = sis_faculty[\"MAJOR TEACHING FIELD\"].str.replace(\"EconomicsorManagementorMarketingorTourismorHospitality\", \"Economics or Management or Marketing or Tourism or Hospitality\")\n",
    "sis_faculty[\"MAJOR TEACHING FIELD\"] = sis_faculty[\"MAJOR TEACHING FIELD\"].str.replace(\"Operations ManagementorManagement ScinecesorOR\", \"Operations Management or Management Scineces\")\n",
    "\n",
    "sis_faculty[\"MAJOR TEACHING FIELD\"] = sis_faculty[\"MAJOR TEACHING FIELD\"].str.replace(\"Masters\", \"\")\n",
    "sis_faculty[\"MAJOR TEACHING FIELD\"] = sis_faculty[\"MAJOR TEACHING FIELD\"].str.replace(\"Computing, Business\", \"Computing and Business\")\n",
    "sis_faculty[\"MAJOR TEACHING FIELD\"] = sis_faculty[\"MAJOR TEACHING FIELD\"].str.replace(\"HR\", \"Human Resource\")\n",
    "sis_faculty[\"MAJOR TEACHING FIELD\"] = sis_faculty[\"MAJOR TEACHING FIELD\"].str.replace(\"OBorHuman Resourceor MKTorGeneral Management\", \"OBor Human Resource Or MOTor General Management\")\n",
    "sis_faculty.loc[sis_faculty[\"MAJOR TEACHING FIELD\"]==\" Masters (in : General Business Admin)and Bachelor ( in:Economics)\",\"MAJOR TEACHING FIELD\"]=\"General Business Administration and Economics\"\n",
    "sis_faculty.loc[sis_faculty[\"MAJOR TEACHING FIELD\"]==\"More than 5 years work experience\",\"MAJOR TEACHING FIELD\"]=\"Finances\"\n",
    "sis_faculty.loc[sis_faculty[\"MAJOR TEACHING FIELD\"]==\"Economics, policy and general business course\",\"MAJOR TEACHING FIELD\"]=\"Economics, policy and general business\"\n",
    "Col_update=sis_faculty[\"MAJOR TEACHING FIELD\"]\n",
    "Col_update.to_csv(\"Column_records_Updated.csv\")\n",
    "\n",
    "sis_faculty.to_csv(\"renewed.csv\")"
   ]
  },
  {
   "cell_type": "code",
   "execution_count": 5621,
   "metadata": {},
   "outputs": [],
   "source": [
    "# 8. Criteria\n",
    "\n",
    "sis_faculty[\"Criteria\"] = sis_faculty[\"Criteria\"].str.replace(\"&\",\"and\")\n",
    "sis_faculty[\"Criteria\"] = sis_faculty[\"Criteria\"].str.replace(\"/\",\" or \")\n",
    "\n",
    "\n",
    "Col_update=sis_faculty[\"Criteria\"]\n",
    "Col_update.to_csv(\"Column_records_Updated.csv\")\n",
    "\n",
    "\n",
    "sis_faculty.to_csv(\"renewed.csv\")"
   ]
  }
 ],
 "metadata": {
  "kernelspec": {
   "display_name": "base",
   "language": "python",
   "name": "python3"
  },
  "language_info": {
   "codemirror_mode": {
    "name": "ipython",
    "version": 3
   },
   "file_extension": ".py",
   "mimetype": "text/x-python",
   "name": "python",
   "nbconvert_exporter": "python",
   "pygments_lexer": "ipython3",
   "version": "3.11.7"
  }
 },
 "nbformat": 4,
 "nbformat_minor": 2
}
